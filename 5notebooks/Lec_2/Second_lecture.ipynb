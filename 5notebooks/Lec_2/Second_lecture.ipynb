{
 "cells": [
  {
   "cell_type": "markdown",
   "metadata": {},
   "source": [
    "## Как регулярные выражения и числовые множества помогают определить тему текста"
   ]
  },
  {
   "cell_type": "code",
   "execution_count": 1,
   "metadata": {},
   "outputs": [
    {
     "name": "stdout",
     "output_type": "stream",
     "text": [
      "[13]\n",
      "[13, 'hello']\n"
     ]
    }
   ],
   "source": [
    "age = 13\n",
    "hello = 'hello'\n",
    "data = []\n",
    "data.append(age)\n",
    "print(data)\n",
    "data.append(hello)\n",
    "print(data)"
   ]
  },
  {
   "cell_type": "markdown",
   "metadata": {},
   "source": [
    "Как обращаться к элементам списка?"
   ]
  },
  {
   "cell_type": "code",
   "execution_count": 2,
   "metadata": {},
   "outputs": [
    {
     "name": "stdout",
     "output_type": "stream",
     "text": [
      "13\n"
     ]
    }
   ],
   "source": [
    "print(data[0])"
   ]
  },
  {
   "cell_type": "markdown",
   "metadata": {},
   "source": [
    "Это список языков, на которых написано не менее 100 тысяч сайтов из 10 миллионов самых посещаемых в интернете. Давайте посчитаем суммарное количество носителей всех славянских языков из выбранных: русского, польского и чешского языков в миллионах.\n"
   ]
  },
  {
   "cell_type": "markdown",
   "metadata": {},
   "source": [
    "| Язык | Носители языка, млн   |\n",
    "|------|------|\n",
    "|   Английский  | 378,2 |\n",
    "|   Русский  | 153,9 |\n",
    "|   Немецкий  | 76 |\n",
    "|   Испанский  | 442,3 |\n",
    "|   Французский  | 76,7 |\n",
    "|   Японский  | 128,2 |\n",
    "|   Португальский  | 222,7 |\n",
    "|   Итальянский  | 64,8 |\n",
    "|   Персидский  | 60,0 |\n",
    "|   Польский  | 39,6 |\n",
    "|   Китайский  | 908,7 |\n",
    "|   Датский  | 22 |\n",
    "|   Турецкий  | 78,5 |\n",
    "|   Чешский  | 10,4 |"
   ]
  },
  {
   "cell_type": "code",
   "execution_count": 2,
   "metadata": {},
   "outputs": [
    {
     "data": {
      "text/plain": [
       "203.9"
      ]
     },
     "execution_count": 2,
     "metadata": {},
     "output_type": "execute_result"
    }
   ],
   "source": [
    "selected_lang = [153.9, 39.6, 10.4]\n",
    "sum(selected_lang)"
   ]
  },
  {
   "cell_type": "code",
   "execution_count": null,
   "metadata": {},
   "outputs": [],
   "source": [
    "f = open('text.txt', 'r')\n",
    "text = f.read()\n",
    "print(text)"
   ]
  },
  {
   "cell_type": "code",
   "execution_count": null,
   "metadata": {},
   "outputs": [],
   "source": [
    "h = open('text.txt', 'r')\n",
    "another_way = h.readlines()\n",
    "print(another_way)"
   ]
  },
  {
   "cell_type": "markdown",
   "metadata": {},
   "source": [
    "В чем состоит принципиальное отличие чтения файла с помощью read vs readlines?"
   ]
  },
  {
   "cell_type": "markdown",
   "metadata": {},
   "source": [
    "Откроем файл в котором содержится первый твит."
   ]
  },
  {
   "cell_type": "code",
   "execution_count": null,
   "metadata": {},
   "outputs": [],
   "source": [
    "tweet = open()"
   ]
  },
  {
   "cell_type": "markdown",
   "metadata": {},
   "source": [
    "##### О том как регулярные выражения спасают жизнь компьютерных лингвистов\n"
   ]
  },
  {
   "cell_type": "markdown",
   "metadata": {},
   "source": [
    "<img src=https://habrastorage.org/webt/l1/z1/9s/l1z19s49sk5bpc8vkmcbho7zgro.jpeg>"
   ]
  },
  {
   "cell_type": "code",
   "execution_count": 6,
   "metadata": {},
   "outputs": [
    {
     "name": "stdout",
     "output_type": "stream",
     "text": [
      "['1', '2', '3', '4', 'Т', 'е', 'п', 'е', 'р', 'ь', 'у', 'м', 'е', 'н', 'я', 'е', 'с', 'т', 'ь', 'ч', 'а', 'с', 'т', 'и', 'ч', 'к', 'а', 'С', 'и', 'д', 'н', 'е', 'я', 'S', 'y', 'd', 'n', 'e', 'y', 'S', 'y', 'd', 'n', 'e', 'y', 'O', 'p', 'e', 'r', 'a', 'H', 'o', 'u', 's', 'e', 'h', 't', 't', 'p', 't', 'c', 'o', 'a', 'g', 'n', 't', 'o', '3', 'C', 'Z', 'E', 'i']\n",
      "['1234', 'Теперь', 'у', 'меня', 'есть', 'частичка', 'Сиднея', 'Sydney', 'SydneyOperaHouse', 'http', 't', 'co', 'agnto3CZEi']\n",
      "['1234', '3']\n",
      "['1234', '', '', '', '', '', '', '', '', '', '', '', '', '', '', '', '', '', '', '', '', '', '', '', '', '', '', '', '', '', '', '', '', '', '', '', '', '', '', '', '', '', '', '', '', '', '', '', '', '', '', '', '', '', '', '', '', '', '', '', '', '', '', '', '', '', '', '', '', '', '', '', '', '', '', '', '', '', '', '', '', '', '', '3', '', '', '', '', '', '']\n",
      "[' Теперь у меня есть частичка Сиднея :) #Sydney #SydneyOperaHouse http://t.co/agnto', 'CZEi\\n']\n",
      "['1234', 'Теперь', 'у', 'меня', 'есть', 'частичка', 'Сиднея', ':)', '#Sydney', '#SydneyOperaHouse', 'http://t.co/agnto3CZEi']\n"
     ]
    }
   ],
   "source": [
    "import re\n",
    "text = '1234 Теперь у меня есть частичка Сиднея :) #Sydney #SydneyOperaHouse http://t.co/agnto3CZEi\\n'\n",
    "lets_try = ['\\w', '\\w+',  '\\d+', '\\d*', '\\D+', '\\S+']\n",
    "print(re.findall('\\w', text))\n",
    "print(re.findall('\\w+', text))\n",
    "print(re.findall('\\d+', text))\n",
    "print(re.findall('\\d*', text))\n",
    "print(re.findall('\\D+', text))\n",
    "print(re.findall('\\S+', text))\n",
    "#как тип данных возвращает метод findall"
   ]
  },
  {
   "cell_type": "code",
   "execution_count": null,
   "metadata": {},
   "outputs": [],
   "source": [
    "#обо всех тонкостях регулярных выражений можно прочитать здесь и даже потренироваться https://habr.com/post/349860/\n",
    "#а пока ограничимся следующим набором волшебных команд\n",
    "\n",
    "result = re.findall('[а-яА-Я]+', text)\n",
    "print(result)"
   ]
  },
  {
   "cell_type": "markdown",
   "metadata": {},
   "source": [
    "Теперь давайте оценим, тональность этого твита? Он положительный или отрицательный?"
   ]
  },
  {
   "cell_type": "markdown",
   "metadata": {},
   "source": [
    "## Классификация текстов"
   ]
  },
  {
   "cell_type": "markdown",
   "metadata": {},
   "source": [
    "Наивное предположение: все слова, которые встречаются в текстах одной темы, могут быть ее маркерами в  других, еще не виденных нами текстах. То есть можем создать программу которая будет сама классифицировать новости или иные тексты"
   ]
  },
  {
   "cell_type": "code",
   "execution_count": 4,
   "metadata": {},
   "outputs": [
    {
     "data": {
      "text/html": [
       "<div>\n",
       "<style scoped>\n",
       "    .dataframe tbody tr th:only-of-type {\n",
       "        vertical-align: middle;\n",
       "    }\n",
       "\n",
       "    .dataframe tbody tr th {\n",
       "        vertical-align: top;\n",
       "    }\n",
       "\n",
       "    .dataframe thead th {\n",
       "        text-align: right;\n",
       "    }\n",
       "</style>\n",
       "<table border=\"1\" class=\"dataframe\">\n",
       "  <thead>\n",
       "    <tr style=\"text-align: right;\">\n",
       "      <th></th>\n",
       "      <th>text</th>\n",
       "      <th>source</th>\n",
       "    </tr>\n",
       "  </thead>\n",
       "  <tbody>\n",
       "    <tr>\n",
       "      <th>0</th>\n",
       "      <td>Начальник Главного оперативного управления Ген...</td>\n",
       "      <td>mil</td>\n",
       "    </tr>\n",
       "    <tr>\n",
       "      <th>1</th>\n",
       "      <td>Артиллерийские подразделения общевойскового об...</td>\n",
       "      <td>mil</td>\n",
       "    </tr>\n",
       "    <tr>\n",
       "      <th>2</th>\n",
       "      <td>Подразделения морской пехоты Каспийской флотил...</td>\n",
       "      <td>mil</td>\n",
       "    </tr>\n",
       "  </tbody>\n",
       "</table>\n",
       "</div>"
      ],
      "text/plain": [
       "                                                text source\n",
       "0  Начальник Главного оперативного управления Ген...    mil\n",
       "1  Артиллерийские подразделения общевойскового об...    mil\n",
       "2  Подразделения морской пехоты Каспийской флотил...    mil"
      ]
     },
     "execution_count": 4,
     "metadata": {},
     "output_type": "execute_result"
    }
   ],
   "source": [
    "import pandas as pd \n",
    "data = pd.read_csv('vk_texts_with_sources.csv', usecols=['text', 'source'])\n",
    "data.head(3)"
   ]
  },
  {
   "cell_type": "code",
   "execution_count": null,
   "metadata": {},
   "outputs": [],
   "source": [
    "news = open()"
   ]
  },
  {
   "cell_type": "markdown",
   "metadata": {},
   "source": [
    "Познакомимся с функциями в Питоне"
   ]
  },
  {
   "cell_type": "code",
   "execution_count": 9,
   "metadata": {},
   "outputs": [
    {
     "name": "stdout",
     "output_type": "stream",
     "text": [
      "12\n"
     ]
    }
   ],
   "source": [
    "def simple_sum(a,b):\n",
    "    ssum = a + b\n",
    "    return ssum\n",
    "a = 2 \n",
    "b = 10\n",
    "\n",
    "print(simple_sum(2,10))"
   ]
  },
  {
   "cell_type": "markdown",
   "metadata": {},
   "source": [
    "Напишите функцию, которая будет возвращать слова на русском языке из текста (то есть разбивать его на слова)"
   ]
  },
  {
   "cell_type": "code",
   "execution_count": 8,
   "metadata": {},
   "outputs": [
    {
     "data": {
      "text/plain": [
       "['Теперь', 'у', 'меня', 'есть', 'частичка', 'Сиднея']"
      ]
     },
     "execution_count": 8,
     "metadata": {},
     "output_type": "execute_result"
    }
   ],
   "source": [
    "def parse_news(tweet):\n",
    "    result = re.f\n",
    "    return result\n",
    "parse_news(text)"
   ]
  },
  {
   "cell_type": "markdown",
   "metadata": {},
   "source": [
    "Теперь когда мы умеем разбивать один текст, нужно проделать это для всех остальных. Самый удобный способ - воспользоваться циклом. Пользоваться будем только часть данных."
   ]
  },
  {
   "cell_type": "code",
   "execution_count": 9,
   "metadata": {},
   "outputs": [
    {
     "name": "stdout",
     "output_type": "stream",
     "text": [
      "Да, все-таки он немного похож на него. Но мой мальчик все равно лучше:D\n",
      "\n",
      "RT @KatiaCheh: Ну ты идиотка) я испугалась за тебя!!!\n",
      "\n",
      "RT @digger2912: \"Кто то в углу сидит и погибает от голода, а мы ещё 2 порции взяли, хотя уже и так жрать не хотим\" :DD http://t.co/GqG6iuE2…\n",
      "\n",
      "@irina_dyshkant Вот что значит страшилка :D\n",
      "\n",
      "Но блин,посмотрев все части,у тебя создастся ощущение,что авторы курили что-то :D\n",
      "\n",
      "ну любишь или нет? — Я не знаю кто ты бля:D http://t.co/brf9eNg1U6\n",
      "\n",
      "RT @SpoonLamer: Ох,900 :D ну это конечно же @twinkleAYO . Чтобы у нее было много друзей, ведь она такая мимими &lt;3\n",
      "\n",
      "RT @veregijytaqo: У тебя есть ухажёр? Нет - мои уши не кто не жрёт :D\n",
      "\n",
      "Поприветствуем моего нового читателя @Alexey1789 ;)\n",
      "\n",
      "Теперь у меня есть частичка Сиднея :) #Sydney #SydneyOperaHouse http://t.co/agnto3CZEi\n",
      "\n"
     ]
    }
   ],
   "source": [
    "part_news = texts[:1000]\n",
    "for i in part_news[:10]:\n",
    "    print(i)\n",
    "    "
   ]
  },
  {
   "cell_type": "markdown",
   "metadata": {},
   "source": [
    "Теперь давайте подготовим данных для работы в более сложных(но при этом более быстрых) инструментах, которыми также обладает Питон. Будем сохранять очищенные предложения в виде строк, а слова в отдeльный список. "
   ]
  },
  {
   "cell_type": "code",
   "execution_count": 10,
   "metadata": {},
   "outputs": [],
   "source": [
    "clear_pos_tweets = []\n",
    "pos_words = []\n",
    "for i in part_pos:\n",
    "    words = parse_tweet(i)\n",
    "    clear_pos_tweets.append(' '.join(words))\n",
    "    pos_words.extend(words)\n",
    "    "
   ]
  },
  {
   "cell_type": "markdown",
   "metadata": {},
   "source": [
    "NB! На этом этапе можно применить леммантизацию или стемминг"
   ]
  },
  {
   "cell_type": "markdown",
   "metadata": {},
   "source": [
    "Задача 1. Протетститровать встроенную функцию join на представленных данных и понять как она работает.\n",
    "<br>Задача 2. Объяснить отличие функции append и extend."
   ]
  },
  {
   "cell_type": "code",
   "execution_count": 12,
   "metadata": {},
   "outputs": [],
   "source": [
    "#Task 1\n",
    "toy_example = ['h', 'e', 'l', 'l', 'o']\n",
    "s = '&&'.join(toy_example)"
   ]
  },
  {
   "cell_type": "code",
   "execution_count": 23,
   "metadata": {},
   "outputs": [
    {
     "name": "stdout",
     "output_type": "stream",
     "text": [
      "[['kj', 124]]\n",
      "['k', 2, 7, [1234, 213]]\n"
     ]
    }
   ],
   "source": [
    "#Task 2\n",
    "list0 = ['k', 2, 7, [1234,213]]\n",
    "list1 = ['kj', 124 ]\n",
    "append_res = []\n",
    "append_res.append(list1)\n",
    "extend_res = []\n",
    "extend_res.extend(list0)\n",
    "print(append_res)\n",
    "print(extend_res)\n"
   ]
  },
  {
   "cell_type": "markdown",
   "metadata": {},
   "source": [
    "Немного об условиях: в питоне мы может использовать kострукции типа if, elif and else"
   ]
  },
  {
   "cell_type": "code",
   "execution_count": 30,
   "metadata": {},
   "outputs": [
    {
     "name": "stdout",
     "output_type": "stream",
     "text": [
      "A is lesser than 5\n"
     ]
    }
   ],
   "source": [
    "a = 2\n",
    "if a > 5:\n",
    "    print('A is greater than 5')\n",
    "elif a < 5:\n",
    "    print('A is lesser than 5')\n",
    "else:\n",
    "    print('A is equal to 5')"
   ]
  },
  {
   "cell_type": "markdown",
   "metadata": {},
   "source": [
    "Задача 3. Составить список уникальных слов, которые используются в позитивных твитах используя циклы и условия. "
   ]
  },
  {
   "cell_type": "code",
   "execution_count": 31,
   "metadata": {},
   "outputs": [
    {
     "name": "stdout",
     "output_type": "stream",
     "text": [
      "8765 4056\n"
     ]
    }
   ],
   "source": [
    "set_pos_words=[]\n",
    "#здесь твой код\n",
    "        \n",
    "print(len(pos_words), len(set_pos_words))\n",
    "# set(pos_words)"
   ]
  },
  {
   "cell_type": "markdown",
   "metadata": {},
   "source": [
    "Затем нам необходимо проделать эти операции и для твитов, тональность которых отмечена негативной оценкой"
   ]
  },
  {
   "cell_type": "code",
   "execution_count": 34,
   "metadata": {},
   "outputs": [],
   "source": [
    "negative_tweets = open('negative_tweets.txt', 'r').readlines()[:1000]\n",
    "clear_neg_tweets = []\n",
    "neg_words = []\n",
    "for tweet in negative_tweets:\n",
    "    res = parse_tweet(tweet)\n",
    "    clear_neg_tweets.append(' '.join(res))\n",
    "    neg_words.extend(res)\n",
    "set_neg_words = set(neg_words)"
   ]
  },
  {
   "cell_type": "markdown",
   "metadata": {},
   "source": [
    "#### О множествах и их возможном пересечении"
   ]
  },
  {
   "cell_type": "markdown",
   "metadata": {},
   "source": [
    "<img src=https://upload.wikimedia.org/wikipedia/commons/thumb/9/99/Venn0001.svg/2000px-Venn0001.svg.png style=\"width: 500px;\">"
   ]
  },
  {
   "cell_type": "markdown",
   "metadata": {},
   "source": [
    "Эта картинка точно отражает положение дел, которое мы имеем, работая с наборами слов разных текстов. Предположите каких слова скорее всего встречаются и в обоих наборах? Это скорее существительные, междометия или все служебные слова?"
   ]
  },
  {
   "cell_type": "markdown",
   "metadata": {},
   "source": [
    "Задача 4. Создать два уникальных набора слов, которые характеризуют или только позитвные твиты или только нeгативные."
   ]
  },
  {
   "cell_type": "code",
   "execution_count": 37,
   "metadata": {},
   "outputs": [
    {
     "name": "stdout",
     "output_type": "stream",
     "text": [
      "2920 3035\n"
     ]
    }
   ],
   "source": [
    "inter = set(set_pos_words).intersection(set(set_neg_words))\n",
    "unique_pos_words = set(set_pos_words) - inter\n",
    "unique_neg_words = set_neg_words - inter\n",
    "print(len(unique_neg_words), len(unique_pos_words))"
   ]
  },
  {
   "cell_type": "code",
   "execution_count": null,
   "metadata": {},
   "outputs": [],
   "source": []
  }
 ],
 "metadata": {
  "kernelspec": {
   "display_name": "Python 3",
   "language": "python",
   "name": "python3"
  },
  "language_info": {
   "codemirror_mode": {
    "name": "ipython",
    "version": 3
   },
   "file_extension": ".py",
   "mimetype": "text/x-python",
   "name": "python",
   "nbconvert_exporter": "python",
   "pygments_lexer": "ipython3",
   "version": "3.6.7"
  }
 },
 "nbformat": 4,
 "nbformat_minor": 2
}
